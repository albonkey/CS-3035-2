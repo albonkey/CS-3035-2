{
  "nbformat": 4,
  "nbformat_minor": 0,
  "metadata": {
    "colab": {
      "name": "Copy of Assignment 2. Comprehensions.ipynb",
      "provenance": [],
      "collapsed_sections": [],
      "toc_visible": true,
      "include_colab_link": true
    },
    "kernelspec": {
      "name": "python3",
      "display_name": "Python 3"
    }
  },
  "cells": [
    {
      "cell_type": "markdown",
      "metadata": {
        "id": "view-in-github",
        "colab_type": "text"
      },
      "source": [
        "<a href=\"https://colab.research.google.com/github/albonkey/CS-3035-2/blob/main/Copy_of_Assignment_2_Comprehensions.ipynb\" target=\"_parent\"><img src=\"https://colab.research.google.com/assets/colab-badge.svg\" alt=\"Open In Colab\"/></a>"
      ]
    },
    {
      "cell_type": "markdown",
      "metadata": {
        "id": "70McNDulWnzN"
      },
      "source": [
        "---\r\n",
        "**This page should not be editable. If it is, please *do not edit it*. Changes you make will be removed.**\r\n",
        "---\r\n",
        "\r\n",
        "\r\n",
        "\r\n",
        "Please copy this page, append your group's name to the end  (before the `.ipynb` extension), and work with the copy.\r\n",
        "\r\n",
        "---\r\n",
        "---\r\n",
        "\r\n"
      ]
    },
    {
      "cell_type": "markdown",
      "metadata": {
        "id": "oOKAz5q0C71C"
      },
      "source": [
        "# [**Engagement page**](https://docs.google.com/spreadsheets/d/1NsEHW8awRrB7pGdTiMa7zzQknu_5XnI4le9oNSFysv4/edit?usp=sharing)\r\n",
        "\r\n",
        "* Please keep a record of your work on this Engagement page."
      ]
    },
    {
      "cell_type": "markdown",
      "metadata": {
        "id": "TWh3s3IuDD8z"
      },
      "source": [
        "\r\n",
        "# [**Discussion page (Canvas)**](https://calstatela.instructure.com/courses/58579/discussion_topics/492347?module_item_id=2814811)\r\n",
        "* Please ask questions about this assignment on this discussion page!\r\n",
        "\r\n",
        "\r\n"
      ]
    },
    {
      "cell_type": "markdown",
      "metadata": {
        "id": "lwbXmzM-AlmI"
      },
      "source": [
        "\n",
        "# Utility functions\n",
        "\n"
      ]
    },
    {
      "cell_type": "markdown",
      "metadata": {
        "id": "ve2ONMmVtJF0"
      },
      "source": [
        "## `print_lv()`\r\n",
        "\r\n",
        "The `print_lv()` function accepts any number of expressions, as strings, and then prints the values of those experssions. Python 3.8 has this built in, but Colab, unfortunately, is only up to Python 3.6. So we have to write our own. Look at the examples. They should be self-explanatory."
      ]
    },
    {
      "cell_type": "code",
      "metadata": {
        "id": "UM6GqPVXsxwp",
        "colab": {
          "base_uri": "https://localhost:8080/"
        },
        "outputId": "4cfa5369-8fdc-4fcc-fe95-7d44a563d965"
      },
      "source": [
        "def print_lv(*strings):\n",
        "    for string in strings:\n",
        "        print(f'{string} => {eval(string)}') \n",
        "    print() \n",
        "\n",
        "# For example \n",
        "a = 5\n",
        "b = 4\n",
        "\n",
        "print_lv('a', 'b', 'a + b', 'a * b', f'{a} * {b}', 'a ** b', 'b ** a', 'min(a, b) ** max(a, b)', f'{min(a, b)} ** {max(a, b)}')\n"
      ],
      "execution_count": 2,
      "outputs": [
        {
          "output_type": "stream",
          "text": [
            "a => 5\n",
            "b => 4\n",
            "a + b => 9\n",
            "a * b => 20\n",
            "5 * 4 => 20\n",
            "a ** b => 625\n",
            "b ** a => 1024\n",
            "min(a, b) ** max(a, b) => 1024\n",
            "4 ** 5 => 1024\n",
            "\n"
          ],
          "name": "stdout"
        }
      ]
    },
    {
      "cell_type": "markdown",
      "metadata": {
        "id": "F3k8J0itPYDt"
      },
      "source": [
        "---\n",
        "---\n",
        "\n",
        "# Introduction to Assignment 2\n",
        "\n",
        "---\n",
        "This assignment will introduce \n",
        "\n",
        "* the Python data structures: [lists](https://docs.python.org/3/tutorial/introduction.html#lists), [sets](https://docs.python.org/3/tutorial/datastructures.html#sets), and [dictionaries](https://docs.python.org/3/tutorial/datastructures.html#dictionaries).\n",
        "\n",
        "* Python [function definitions](https://docs.python.org/3/tutorial/controlflow.html#defining-functions).\n",
        "\n",
        "* the [list comprehension](https://docs.python.org/3/tutorial/datastructures.html#list-comprehensions) -- and the related dictionary comprehension\n",
        "\n",
        "* list concatentation\n",
        "\n",
        "* the [`isinstance()`](https://docs.python.org/3/library/functions.html?highlight=round#isinstance), [`round()`](https://docs.python.org/3/library/functions.html?highlight=round#round), [`sample()`](https://docs.python.org/3/library/random.html?highlight=sample#random.sample), and  [`sorted()`](https://docs.python.org/3/library/functions.html#sorted) functions and the [`sort()`](https://docs.python.org/3/library/stdtypes.html?highlight=sort#list.sort) method. Some of these functions are built into Python. [This table](https://docs.python.org/3/library/functions.html) lists Python's built-in functions. It's a good table to keep handy.\n",
        "\n",
        "That's quite a few topics. All except list-comprehension and dictionary-comprehension should be familiar to you from Java.\n",
        "\n",
        "Even more important, we will continue to focus on how to explain software.\n",
        "\n",
        "---"
      ]
    },
    {
      "cell_type": "markdown",
      "metadata": {
        "id": "VTBBAedMLFuG"
      },
      "source": [
        "Suppose you have a list of numbers: `a_list` as in the following code block. "
      ]
    },
    {
      "cell_type": "code",
      "metadata": {
        "id": "oRShJRpXPwYy",
        "colab": {
          "base_uri": "https://localhost:8080/"
        },
        "outputId": "feb62761-26da-4fa0-e5ea-43995ce4a79a"
      },
      "source": [
        "from random import sample\n",
        "\n",
        "a_list = sample(range(15), 9)\n",
        "print_lv('a_list')"
      ],
      "execution_count": 3,
      "outputs": [
        {
          "output_type": "stream",
          "text": [
            "a_list => [11, 8, 6, 2, 3, 12, 4, 9, 7]\n",
            "\n"
          ],
          "name": "stdout"
        }
      ]
    },
    {
      "cell_type": "markdown",
      "metadata": {
        "id": "jh16-ddzSLyG"
      },
      "source": [
        ""
      ]
    },
    {
      "cell_type": "markdown",
      "metadata": {
        "id": "lMPbrzRNwwhf"
      },
      "source": [
        "### **Q1. Might the numbers in `a_list` include repeats? How do you know?**\r\n",
        "\r\n",
        "---\r\n",
        "**Answer:**\r\n",
        "\r\n",
        "No, the numbers in ```a_list``` may not include repeats. It samples from the range function, and does not sample the same entry twice.\r\n",
        "\r\n",
        "If there had been repeats in the initial iterable object, then the returned sample function could include those repeats. \r\n",
        "\r\n",
        "---\r\n",
        "\r\n",
        "* **Correct and complete: (A, B, C).**\r\n",
        "\r\n",
        "* **Written in clear, grammatical, and properly spelled English: (A, B, C).**\r\n",
        "---"
      ]
    },
    {
      "cell_type": "markdown",
      "metadata": {
        "id": "KeTgBa00P-ek"
      },
      "source": [
        "Suppose you select a number `k` to be twice the average of the elements in `a_list`. \n",
        "\n"
      ]
    },
    {
      "cell_type": "code",
      "metadata": {
        "id": "TtPTYcvZQDtm",
        "colab": {
          "base_uri": "https://localhost:8080/"
        },
        "outputId": "9dd0e572-0316-4db2-a06c-e4f55b239b78"
      },
      "source": [
        "from statistics import mean\n",
        "\n",
        "k = round(2*mean(a_list))\n",
        "print_lv('a_list', 'round(mean(a_list), 2)', 'k')"
      ],
      "execution_count": 5,
      "outputs": [
        {
          "output_type": "stream",
          "text": [
            "a_list => [11, 8, 6, 2, 3, 12, 4, 9, 7]\n",
            "round(mean(a_list), 2) => 6.89\n",
            "k => 14\n",
            "\n"
          ],
          "name": "stdout"
        }
      ]
    },
    {
      "cell_type": "markdown",
      "metadata": {
        "id": "2ukVi2gixzoC"
      },
      "source": [
        "The variable `a_list` is not defined in this code block.\r\n",
        "\r\n",
        "### **Q2. Where does `a_list` get its value? What happens if you select `Runtime > Restart runtime` and then execute this code block? Explain why that happens.**\r\n",
        "\r\n",
        "---\r\n",
        "**Answer:**\r\n",
        "```a_list``` gets it's value in the previous codeblock. When we select ```Runtime > Restart runtime``` we clear the memory of the program, and it's like we never initialized the variable ```a_list```. So when we execute this codeblock we will get an error saying name ```NameError: name a_list is not defined```.\r\n",
        "\r\n",
        "---\r\n",
        "\r\n",
        "* **Correct and complete: (A, B, C).**\r\n",
        "* **Written in clear, grammatical, and properly spelled English: (A, B, C).**\r\n",
        "---"
      ]
    },
    {
      "cell_type": "markdown",
      "metadata": {
        "id": "KUtoNJ7cQfNh"
      },
      "source": [
        "### **Q3. Will selecting `k` to be  twice the average of the elements in `a_list` give us the best chance to find two `a_list` elements that add up to`k`? Why or why not?**\r\n",
        "\r\n",
        "---\r\n",
        "**Answer:**\r\n",
        "Yes it will give us the best chance. The numbers in the list will balance around the average. By selecting K to be twice the average there exists the highest chance of two numbers adding up to it.\r\n",
        "\r\n",
        "\r\n",
        "\r\n",
        "---\r\n",
        "\r\n",
        "* **Correct and complete: (A, B, C).**\r\n",
        "* **Written in clear, grammatical, and properly spelled English: (A, B, C).**\r\n",
        "---"
      ]
    },
    {
      "cell_type": "markdown",
      "metadata": {
        "id": "9RWbZ8vt0bC-"
      },
      "source": [
        "The following, which repeats the code from above, will (a) generate and sort `a_list` and then (b) tell you which pairs of numbers from `a_list`, if any, add up to `k`. We may not find any, or we may find multiple pairs. Run it multiple times and see."
      ]
    },
    {
      "cell_type": "code",
      "metadata": {
        "id": "nZMna2YDQUbR",
        "colab": {
          "base_uri": "https://localhost:8080/"
        },
        "outputId": "6ad223df-a717-4653-c457-14519b925742"
      },
      "source": [
        "from random import sample\n",
        "from statistics import mean\n",
        "\n",
        "a_list = sorted(sample(range(15), 9))\n",
        "k_0 = mean(a_list)\n",
        "k = round(2*k_0)\n",
        "pairs_that_sum_to_k = [(low, k-low) for low in a_list if low < k/2 and k-low in a_list]\n",
        "print_lv('a_list', 'round(k_0, 2)', 'k', 'pairs_that_sum_to_k')"
      ],
      "execution_count": null,
      "outputs": [
        {
          "output_type": "stream",
          "text": [
            "a_list => [3, 4, 5, 6, 7, 8, 9, 10, 12]\n",
            "round(k_0, 2) => 7.11\n",
            "k => 14\n",
            "pairs_that_sum_to_k => [(4, 10), (5, 9), (6, 8)]\n",
            "\n"
          ],
          "name": "stdout"
        }
      ]
    },
    {
      "cell_type": "markdown",
      "metadata": {
        "id": "F7V3p5GS0oqZ"
      },
      "source": [
        "### **Q4. Line 4 above uses the [`sorted()`](https://docs.python.org/3/library/functions.html#sorted) function. What is the difference between the [`sorted()`](https://docs.python.org/3/library/functions.html#sorted) _function_ and the the [`sort()`](https://docs.python.org/3/library/stdtypes.html?highlight=sort#list.sort) *method* &mdash; other than that one is a function and the other is a method?**\r\n",
        "\r\n",
        "---\r\n",
        "**Answer:**\r\n",
        "```sorted()``` is a function where you pass in an iterable object and it returns back a sorted list. The method ```sort()``` can only be used on a list, and it modifies that list in place returning ```None```.\r\n",
        "\r\n",
        "This means if you don't want to change the original list you should not use the ```sort()``` method. Rather you should use the ```sorted()``` function on the list, leaving your original list untouched.\r\n",
        "\r\n",
        "---\r\n",
        "\r\n",
        "* **Correct and complete: (A, B, C).**\r\n",
        "* **Written in clear, grammatical, and properly spelled English: (A, B, C).**\r\n",
        "---"
      ]
    },
    {
      "cell_type": "markdown",
      "metadata": {
        "id": "G9zAW9m9QNSB"
      },
      "source": [
        "Line 6 of the preceding code block uses what is known as a *list comprehension*. The [Python tutorial](https://docs.python.org/3/tutorial/) contains a good section on [list comprehensions](https://docs.python.org/3/tutorial/datastructures.html#list-comprehensions).\n",
        "\n",
        "**Before proceeding, read the Python tutorial material on list comprehensions.**\n",
        "\n",
        "**Then read this discussion about [how to explain your code](https://calstatela.instructure.com/courses/58579/modules/items/2739930). It is based on line 6 above.**\n",
        "\n",
        "When you understand this material, continue with the rest of the assignment. The remainder of this assignment is a generalization of the preceding code block. \n",
        "\n",
        "---\n",
        "\n",
        "---\n"
      ]
    },
    {
      "cell_type": "markdown",
      "metadata": {
        "id": "Wj9Rb6Jxt1j4"
      },
      "source": [
        "\n",
        "\n",
        "\n",
        "# Assignment 2 details\n",
        "\n"
      ]
    },
    {
      "cell_type": "markdown",
      "metadata": {
        "id": "L0ojhmMvuByl"
      },
      "source": [
        "We will start by generalizing the code that generates the list we have been calling `a_list`. Instead of a list, we will generate a [set](https://docs.python.org/3/tutorial/datastructures.html#sets)."
      ]
    },
    {
      "cell_type": "code",
      "metadata": {
        "id": "ISkfkr8Sp-WV",
        "colab": {
          "base_uri": "https://localhost:8080/"
        },
        "outputId": "8a018b32-b298-475b-965a-146322c0bf6a"
      },
      "source": [
        "from random import sample\n",
        "\n",
        "upper_bound = 26\n",
        "sample_size = 8\n",
        "\n",
        "# Note that + concatentes lists.\n",
        "my_numbers_as_a_list = sample(range(1, upper_bound), sample_size) + sample(range(1, upper_bound), sample_size) \n",
        "my_numbers_as_a_set = set(my_numbers_as_a_list)\n",
        "print_lv('my_numbers_as_a_list', 'sorted(my_numbers_as_a_list)', 'my_numbers_as_a_set')"
      ],
      "execution_count": null,
      "outputs": [
        {
          "output_type": "stream",
          "text": [
            "my_numbers_as_a_list => [14, 24, 17, 11, 7, 6, 4, 12, 16, 12, 17, 23, 9, 20, 11, 13]\n",
            "sorted(my_numbers_as_a_list) => [4, 6, 7, 9, 11, 11, 12, 12, 13, 14, 16, 17, 17, 20, 23, 24]\n",
            "my_numbers_as_a_set => {4, 6, 7, 9, 11, 12, 13, 14, 16, 17, 20, 23, 24}\n",
            "\n"
          ],
          "name": "stdout"
        }
      ]
    },
    {
      "cell_type": "markdown",
      "metadata": {
        "id": "duEk-Mc2qkrH"
      },
      "source": [
        "### **Q5. What function do `upper_bound` and `sample_size` serve in the preceding code block?**\n",
        "\n",
        "\n",
        "---\n",
        "**Answer:**\n",
        "\n",
        "---\n",
        "\n",
        "* **Correct and complete: (A, B, C).**\n",
        "* **Written in clear, grammatical, and properly spelled English: (A, B, C).**\n",
        "---\n"
      ]
    },
    {
      "cell_type": "markdown",
      "metadata": {
        "id": "hPilYTl3R5On"
      },
      "source": [
        "### **Q6. How would you expect `my_numbers_as_a_set` to differ from `my_numbers_as_a_list` and from `sorted(my_numbers_as_a_list)`?**\n",
        "\n",
        "\n",
        "---\n",
        "**Answer:**\n",
        "\n",
        "---\n",
        "\n",
        "* **Correct and complete: (A, B, C).**\n",
        "* **Written in clear, grammatical, and properly spelled English: (A, B, C).**\n",
        "---\n"
      ]
    },
    {
      "cell_type": "code",
      "metadata": {
        "id": "c_q7ffVxmy9n",
        "colab": {
          "base_uri": "https://localhost:8080/"
        },
        "outputId": "884fe096-4195-46d3-fdd8-fde5b8b71d61"
      },
      "source": [
        "def pairs_sum_to_k(a_set, k):\n",
        "    \"\"\" Find pairs of numbers from a_set (a set of integers) that sum to k (an integer). \"\"\"\n",
        "    pairs_that_sum_to_k = [(low, k-low) for low in a_set if low < k/2 and k-low in a_set]\n",
        "    return pairs_that_sum_to_k\n",
        "\n",
        "k_set = round(2*mean(my_numbers_as_a_set))\n",
        "print_lv('my_numbers_as_a_set', 'k_set', 'pairs_sum_to_k(my_numbers_as_a_set, k_set)')\n",
        "\n",
        "k_list = round(2*mean(my_numbers_as_a_list))\n",
        "print_lv('my_numbers_as_a_list', 'k_list', 'pairs_sum_to_k(my_numbers_as_a_list, k_list)')"
      ],
      "execution_count": null,
      "outputs": [
        {
          "output_type": "stream",
          "text": [
            "my_numbers_as_a_set => {4, 6, 7, 9, 11, 12, 13, 14, 16, 17, 20, 23, 24}\n",
            "k_set => 27\n",
            "pairs_sum_to_k(my_numbers_as_a_set, k_set) => [(4, 23), (7, 20), (11, 16), (13, 14)]\n",
            "\n",
            "my_numbers_as_a_list => [14, 24, 17, 11, 7, 6, 4, 12, 16, 12, 17, 23, 9, 20, 11, 13]\n",
            "k_list => 27\n",
            "pairs_sum_to_k(my_numbers_as_a_list, k_list) => [(11, 16), (7, 20), (4, 23), (11, 16), (13, 14)]\n",
            "\n"
          ],
          "name": "stdout"
        }
      ]
    },
    {
      "cell_type": "markdown",
      "metadata": {
        "id": "uFu0-AF5nOc4"
      },
      "source": [
        "\n",
        "The code block above  begins with four lines that have the following form.\n",
        "\n",
        "* a line beginning with **`def`** and ending with **`:`** ; \n",
        "* optionally one or more indented lines surrounded by triple double quotes;\n",
        "* one or more indented lines of code and comments.\n",
        "\n",
        "### **Q7. What does that structure do? What rules must it obey?**\n",
        "\n",
        "---\n",
        "**Answer:**\n",
        "\n",
        "---\n",
        "\n",
        "* **Correct and complete: (A, B, C).**\n",
        "* **Written in clear, grammatical, and properly spelled English: (A, B, C).**\n",
        "---\n",
        "\n",
        "\n",
        "\n"
      ]
    },
    {
      "cell_type": "markdown",
      "metadata": {
        "id": "r4Er6NEEvIoc"
      },
      "source": [
        "### **Q8. Explain in your own words line 3 of the above code block.** \n",
        "\n",
        "In other words, restate the explanation given above, but put it in your own words. Since Python is not statically typed, explain what we expect the type of `a_set` to be.  \n",
        "\n",
        "---\n",
        "**Answer:**\n",
        "\n",
        "**Context:** (In this case, the context consists of the arguments to the function. What should we expect those arguments to be?)\n",
        "\n",
        "**What:**\n",
        "\n",
        "**Strategy:**\n",
        "\n",
        "**How:**\n",
        "\n",
        "---\n",
        "\n",
        "* **Correct and complete: (A, B, C).**\n",
        "* **Written in clear, grammatical, and properly spelled English: (A, B, C).**\n",
        "---"
      ]
    },
    {
      "cell_type": "markdown",
      "metadata": {
        "id": "Fl1cxYiKQXFI"
      },
      "source": [
        "You can use `Runtime > Run all` to run the code multiple times and generate a new list and set each time.\n",
        "\n",
        "\n"
      ]
    },
    {
      "cell_type": "markdown",
      "metadata": {
        "id": "vLpdgnpNvO_o"
      },
      "source": [
        "### **Q9. What do lines 6 - 10 do? What would happen if they were not included?**\r\n",
        "\r\n",
        "---\r\n",
        "**Answer:** \r\n",
        "\r\n",
        "**Context:** In this case, the context consists of the variables `my_numbers_as_a_set` and `my_numbers_as_a_list`. Where are they defined?\r\n",
        "\r\n",
        "**What:** Lines 6 - 10 consist of two pairs of two lines each. Since the two pairs are very similar to each other, you can explain them both with a single explanation parameterized by the two context variables.\r\n",
        "\r\n",
        "**Strategy:**\r\n",
        "\r\n",
        "**How:**\r\n",
        "\r\n",
        "---\r\n",
        "\r\n",
        "* **Correct and complete: (A, B, C).**\r\n",
        "* **Written in clear, grammatical, and properly spelled English: (A, B, C).**\r\n",
        "---"
      ]
    },
    {
      "cell_type": "markdown",
      "metadata": {
        "id": "cJZ60jDOSQco"
      },
      "source": [
        "### **Q10. What might happen if our assumption about `a_set` is not correct?** \n",
        "\n",
        "That is, what might happen if we passed `my_numbers_as_a_list` and `k_list` to `pairs_sum_to_k()`?\n",
        "\n",
        "Show how you can use [`isinstance()`](https://docs.python.org/3/library/functions.html?highlight=round#isinstance) to check that `a_set` is really a set.\n",
        "\n",
        "---\n",
        "**Answer:**\n",
        "\n",
        "---\n",
        "\n",
        "* **Correct and complete: (A, B, C).**\n",
        "* **Written in clear, grammatical, and properly spelled English: (A, B, C).**\n",
        "---"
      ]
    },
    {
      "cell_type": "markdown",
      "metadata": {
        "id": "nT2MeDtnHm92"
      },
      "source": [
        "The following function calls the function ` pairs_sum_to_k()`, defined above. This function uses a *dictionary comprehension*. A *dictionary comprehension* is like a list comprehension except that it builds a dictionary rather than a list. \r\n",
        "\r\n",
        "A Python dictionary is like a [Java HashMap](https://www.w3schools.com/java/java_hashmap.asp), which you should be familiar with. There is a good introduction to [Dictionaries](https://docs.python.org/3/tutorial/datastructures.html#dictionaries) in the Python Tutorial. Also read the [Looping Techniques](https://docs.python.org/3/tutorial/datastructures.html#looping-techniques) section that follows the Introduction to Dictionaries section.\r\n",
        "\r\n",
        "Dictionaries are instances of the `dict` **`class`**. See [dictionary methods](https://docs.python.org/3/library/stdtypes.html?highlight=values#mapping-types-dict) for a list and discussion of dictionary methods."
      ]
    },
    {
      "cell_type": "code",
      "metadata": {
        "id": "HpD6KuCtnIE1"
      },
      "source": [
        "def pair_sums(a_set):\n",
        "    \"\"\"\n",
        "    Using a_set (a set of integers) as input, create a dictionary where the keys are the k-values that \n",
        "    pairs of elements in a_set can sum to. The value for each key is a list of pairs from the set,  \n",
        "    smaller one first, that sum to that number. Return that dictionary.\n",
        "    \"\"\"\n",
        "    pairs_lists_dict = {k: pairs_sum_to_k(a_set, k) for k in range(1, 2*max(a_set))}\n",
        "    pairs_lists_non_null = {key: pairs_lists_dict[key] for key in pairs_lists_dict if pairs_lists_dict[key] != []}\n",
        "    return pairs_lists_non_null\n"
      ],
      "execution_count": null,
      "outputs": []
    },
    {
      "cell_type": "markdown",
      "metadata": {
        "id": "YnlJmZirnXKa"
      },
      "source": [
        "### **Q11. Explain the code block above.**\n",
        "\n",
        "Even though it's quite short&mdash;only two functional lines&mdash;the preceding is a non-trival function. Be sure you explain it fully.  (Why doesn't it run in this code block? You can see it run in the code block immediately below.)\n",
        "\n",
        "---\n",
        "**Answer:**\n",
        "\n",
        "**Context:** \n",
        "\n",
        "**What:** \n",
        "\n",
        "**Strategy:**\n",
        "\n",
        "**How:**\n",
        "\n",
        "---\n",
        "\n",
        "* **Correct and complete: (A, B, C).**\n",
        "* **Written in clear, grammatical, and properly spelled English: (A, B, C).**\n",
        "---"
      ]
    },
    {
      "cell_type": "markdown",
      "metadata": {
        "id": "j0dU5JU9Rn51"
      },
      "source": [
        "The following code block calls the function defined above and then prints the results.\n",
        "\n",
        "Note that lines 3-12 are equivalent to lines 19-20. (Lines 3-12 generate some additional intermediate output.) To avoid duplicate output, comment out either 3-12 or 19-20.\n",
        "\n",
        "Lines 14-16 separate the duplicate output in case it is generated. \n",
        "\n",
        "\n",
        "\n",
        "\n",
        "\n",
        "\n"
      ]
    },
    {
      "cell_type": "code",
      "metadata": {
        "colab": {
          "base_uri": "https://localhost:8080/"
        },
        "id": "SePZPWmHUXx5",
        "outputId": "07e39dc2-1aa6-4320-8824-f1a782072f25"
      },
      "source": [
        "print_lv('my_numbers_as_a_set')\r\n",
        "\r\n",
        "non_null_pair_sums = pair_sums(my_numbers_as_a_set)\r\n",
        "print_lv('non_null_pair_sums')\r\n",
        "\r\n",
        "# Note that dict_items is essentiall the dictionary represented as a list of (key, value) tuple pairs.\r\n",
        "dict_items = non_null_pair_sums.items()\r\n",
        "print_lv('dict_items')\r\n",
        "\r\n",
        "# When the following line iterates through dict_items, it is iterating through the list of tuples.\r\n",
        "for (key, value) in dict_items:\r\n",
        "    print(f'{key}: {value}')  \r\n",
        "\r\n",
        "print()\r\n",
        "print('-'*50)\r\n",
        "print()\r\n",
        "\r\n",
        "# Lines 3 - 12 could also be written as follows. \r\n",
        "for (key, value) in pair_sums(my_numbers_as_a_set).items():\r\n",
        "    print(f'{key}: {value}')   "
      ],
      "execution_count": null,
      "outputs": [
        {
          "output_type": "stream",
          "text": [
            "my_numbers_as_a_set => {4, 6, 7, 9, 11, 12, 13, 14, 16, 17, 20, 23, 24}\n",
            "\n",
            "non_null_pair_sums => {10: [(4, 6)], 11: [(4, 7)], 13: [(4, 9), (6, 7)], 15: [(4, 11), (6, 9)], 16: [(4, 12), (7, 9)], 17: [(4, 13), (6, 11)], 18: [(4, 14), (6, 12), (7, 11)], 19: [(6, 13), (7, 12)], 20: [(4, 16), (6, 14), (7, 13), (9, 11)], 21: [(4, 17), (7, 14), (9, 12)], 22: [(6, 16), (9, 13)], 23: [(6, 17), (7, 16), (9, 14), (11, 12)], 24: [(4, 20), (7, 17), (11, 13)], 25: [(9, 16), (11, 14), (12, 13)], 26: [(6, 20), (9, 17), (12, 14)], 27: [(4, 23), (7, 20), (11, 16), (13, 14)], 28: [(4, 24), (11, 17), (12, 16)], 29: [(6, 23), (9, 20), (12, 17), (13, 16)], 30: [(6, 24), (7, 23), (13, 17), (14, 16)], 31: [(7, 24), (11, 20), (14, 17)], 32: [(9, 23), (12, 20)], 33: [(9, 24), (13, 20), (16, 17)], 34: [(11, 23), (14, 20)], 35: [(11, 24), (12, 23)], 36: [(12, 24), (13, 23), (16, 20)], 37: [(13, 24), (14, 23), (17, 20)], 38: [(14, 24)], 39: [(16, 23)], 40: [(16, 24), (17, 23)], 41: [(17, 24)], 43: [(20, 23)], 44: [(20, 24)], 47: [(23, 24)]}\n",
            "\n",
            "dict_items => dict_items([(10, [(4, 6)]), (11, [(4, 7)]), (13, [(4, 9), (6, 7)]), (15, [(4, 11), (6, 9)]), (16, [(4, 12), (7, 9)]), (17, [(4, 13), (6, 11)]), (18, [(4, 14), (6, 12), (7, 11)]), (19, [(6, 13), (7, 12)]), (20, [(4, 16), (6, 14), (7, 13), (9, 11)]), (21, [(4, 17), (7, 14), (9, 12)]), (22, [(6, 16), (9, 13)]), (23, [(6, 17), (7, 16), (9, 14), (11, 12)]), (24, [(4, 20), (7, 17), (11, 13)]), (25, [(9, 16), (11, 14), (12, 13)]), (26, [(6, 20), (9, 17), (12, 14)]), (27, [(4, 23), (7, 20), (11, 16), (13, 14)]), (28, [(4, 24), (11, 17), (12, 16)]), (29, [(6, 23), (9, 20), (12, 17), (13, 16)]), (30, [(6, 24), (7, 23), (13, 17), (14, 16)]), (31, [(7, 24), (11, 20), (14, 17)]), (32, [(9, 23), (12, 20)]), (33, [(9, 24), (13, 20), (16, 17)]), (34, [(11, 23), (14, 20)]), (35, [(11, 24), (12, 23)]), (36, [(12, 24), (13, 23), (16, 20)]), (37, [(13, 24), (14, 23), (17, 20)]), (38, [(14, 24)]), (39, [(16, 23)]), (40, [(16, 24), (17, 23)]), (41, [(17, 24)]), (43, [(20, 23)]), (44, [(20, 24)]), (47, [(23, 24)])])\n",
            "\n",
            "10: [(4, 6)]\n",
            "11: [(4, 7)]\n",
            "13: [(4, 9), (6, 7)]\n",
            "15: [(4, 11), (6, 9)]\n",
            "16: [(4, 12), (7, 9)]\n",
            "17: [(4, 13), (6, 11)]\n",
            "18: [(4, 14), (6, 12), (7, 11)]\n",
            "19: [(6, 13), (7, 12)]\n",
            "20: [(4, 16), (6, 14), (7, 13), (9, 11)]\n",
            "21: [(4, 17), (7, 14), (9, 12)]\n",
            "22: [(6, 16), (9, 13)]\n",
            "23: [(6, 17), (7, 16), (9, 14), (11, 12)]\n",
            "24: [(4, 20), (7, 17), (11, 13)]\n",
            "25: [(9, 16), (11, 14), (12, 13)]\n",
            "26: [(6, 20), (9, 17), (12, 14)]\n",
            "27: [(4, 23), (7, 20), (11, 16), (13, 14)]\n",
            "28: [(4, 24), (11, 17), (12, 16)]\n",
            "29: [(6, 23), (9, 20), (12, 17), (13, 16)]\n",
            "30: [(6, 24), (7, 23), (13, 17), (14, 16)]\n",
            "31: [(7, 24), (11, 20), (14, 17)]\n",
            "32: [(9, 23), (12, 20)]\n",
            "33: [(9, 24), (13, 20), (16, 17)]\n",
            "34: [(11, 23), (14, 20)]\n",
            "35: [(11, 24), (12, 23)]\n",
            "36: [(12, 24), (13, 23), (16, 20)]\n",
            "37: [(13, 24), (14, 23), (17, 20)]\n",
            "38: [(14, 24)]\n",
            "39: [(16, 23)]\n",
            "40: [(16, 24), (17, 23)]\n",
            "41: [(17, 24)]\n",
            "43: [(20, 23)]\n",
            "44: [(20, 24)]\n",
            "47: [(23, 24)]\n",
            "\n",
            "--------------------------------------------------\n",
            "\n",
            "10: [(4, 6)]\n",
            "11: [(4, 7)]\n",
            "13: [(4, 9), (6, 7)]\n",
            "15: [(4, 11), (6, 9)]\n",
            "16: [(4, 12), (7, 9)]\n",
            "17: [(4, 13), (6, 11)]\n",
            "18: [(4, 14), (6, 12), (7, 11)]\n",
            "19: [(6, 13), (7, 12)]\n",
            "20: [(4, 16), (6, 14), (7, 13), (9, 11)]\n",
            "21: [(4, 17), (7, 14), (9, 12)]\n",
            "22: [(6, 16), (9, 13)]\n",
            "23: [(6, 17), (7, 16), (9, 14), (11, 12)]\n",
            "24: [(4, 20), (7, 17), (11, 13)]\n",
            "25: [(9, 16), (11, 14), (12, 13)]\n",
            "26: [(6, 20), (9, 17), (12, 14)]\n",
            "27: [(4, 23), (7, 20), (11, 16), (13, 14)]\n",
            "28: [(4, 24), (11, 17), (12, 16)]\n",
            "29: [(6, 23), (9, 20), (12, 17), (13, 16)]\n",
            "30: [(6, 24), (7, 23), (13, 17), (14, 16)]\n",
            "31: [(7, 24), (11, 20), (14, 17)]\n",
            "32: [(9, 23), (12, 20)]\n",
            "33: [(9, 24), (13, 20), (16, 17)]\n",
            "34: [(11, 23), (14, 20)]\n",
            "35: [(11, 24), (12, 23)]\n",
            "36: [(12, 24), (13, 23), (16, 20)]\n",
            "37: [(13, 24), (14, 23), (17, 20)]\n",
            "38: [(14, 24)]\n",
            "39: [(16, 23)]\n",
            "40: [(16, 24), (17, 23)]\n",
            "41: [(17, 24)]\n",
            "43: [(20, 23)]\n",
            "44: [(20, 24)]\n",
            "47: [(23, 24)]\n"
          ],
          "name": "stdout"
        }
      ]
    },
    {
      "cell_type": "markdown",
      "metadata": {
        "id": "wE5yK_A4rLGb"
      },
      "source": [
        "### **Q12. Explain the preceding code block. Which version do you prefer: 3-12 or 19-20?. Why?**\n",
        "\n",
        "\n",
        "---\n",
        "**Answer:**\n",
        "\n",
        "---\n",
        "\n",
        "* **Correct and complete: (A, B, C).**\n",
        "* **Written in clear, grammatical, and properly spelled English: (A, B, C).**\n",
        "---\n"
      ]
    },
    {
      "cell_type": "markdown",
      "metadata": {
        "id": "9PUjwPxe4ehb"
      },
      "source": [
        "Now, let's find the keys with the largest number of pairs."
      ]
    },
    {
      "cell_type": "code",
      "metadata": {
        "id": "6ikle_ia7RHI"
      },
      "source": [
        "def keys_with_longest_lists(pairs_lists):\n",
        "    \"\"\" \n",
        "    pairs_lists is the sort of dictionary generated by pair_sums.\n",
        "\n",
        "    Find the keys in pairs_lists that have the largest number of pairs that sum to that key. We can call that\n",
        "    number \"max_pairs_length.\" Often there will be more than one key with lists of length max_pairs_length.\n",
        "    Return (a) max_pairs_length and (b) the keys and their associated lists with that length. \n",
        "    \"\"\"\n",
        "\n",
        "    # What does the values() method return?\n",
        "    lengths = [len(vals) for vals in pairs_lists.values()]\n",
        "    max_pairs_length = max(lengths)\n",
        "\n",
        "    # The argument to max is a generator. It's the same sort of expression\n",
        "    # used in list comprehensions, but it doesn't generate a fixed result.\n",
        "    # Instead if provides the values it generates to max one at a time.\n",
        "    max_pairs_length = max(len(vals) for vals in pairs_lists.values())\n",
        "\n",
        "    all_longest_lists = {key: pairs_lists[key] for key in pairs_lists if len(pairs_lists[key]) == max_pairs_length}\n",
        "    return (max_pairs_length, all_longest_lists)\n"
      ],
      "execution_count": null,
      "outputs": []
    },
    {
      "cell_type": "markdown",
      "metadata": {
        "id": "gQqrC1a4xHFu"
      },
      "source": [
        "### **Q13. Lines 11 and 12 produce the same result as line 17. (The code block runs properly with either one commented out.) Which is the better choice? Consider both readability and resource use.**\n",
        "\n",
        "---\n",
        "**Answer:**\n",
        "\n",
        "**Context:** \n",
        "\n",
        "**What:** \n",
        "\n",
        "**Strategy:**\n",
        "\n",
        "**How:**\n",
        "\n",
        "---\n",
        "\n",
        "* **Correct and complete: (A, B, C).**\n",
        "* **Written in clear, grammatical, and properly spelled English: (A, B, C).**\n",
        "---"
      ]
    },
    {
      "cell_type": "markdown",
      "metadata": {
        "id": "Hk___DAMmjuW"
      },
      "source": [
        "### **Q14. Explain the function above.**\n",
        "\n",
        "---\n",
        "**Answer:**\n",
        "\n",
        "**Context:** \n",
        "\n",
        "**What:** \n",
        "\n",
        "**Strategy:**\n",
        "\n",
        "**How:**\n",
        "\n",
        "---\n",
        "\n",
        "* **Correct and complete: (A, B, C).**\n",
        "* **Written in clear, grammatical, and properly spelled English: (A, B, C).**\n",
        "---"
      ]
    },
    {
      "cell_type": "markdown",
      "metadata": {
        "id": "kZvsM_W_4rGm"
      },
      "source": [
        "Let's run it all. \r\n",
        "\r\n",
        "The following code block repeats all the functions defined above. \r\n",
        "\r\n"
      ]
    },
    {
      "cell_type": "code",
      "metadata": {
        "id": "bd43HFE6rdPh"
      },
      "source": [
        "def print_lv(*strings):\n",
        "    for string in strings:\n",
        "        print(f'{string} => {eval(string)}') \n",
        "    print() \n",
        "\n",
        "\n",
        "def pairs_sum_to_k(a_set, k):\n",
        "    \"\"\" \n",
        "    Find pairs of numbers from a_set (a set of integers) that sum to k (an integer). \n",
        "    Returns a list of all such pairs, i.e., a list of 2-tuples.    \n",
        "    \"\"\"\n",
        "    pairs_that_sum_to_k = [(low, k-low) for low in a_set if low < k/2 and k-low in a_set]\n",
        "    return pairs_that_sum_to_k\n",
        "\n",
        "\n",
        "def pair_sums(a_set):\n",
        "    \"\"\"\n",
        "    Using a_set (a set of integers) as input, create a dictionary where the keys are the k-values that \n",
        "    pairs of elements in a_set can sum to. The value for each key is a list of pairs from the set,  \n",
        "    smaller one first, that sum to that number. Return that dictionary.\n",
        "    \"\"\"\n",
        "    pairs_lists_dict = {k: pairs_sum_to_k(a_set, k) for k in range(2*max(a_set))}\n",
        "    pairs_lists_non_null = {key: pairs_lists_dict[key] for key in pairs_lists_dict if pairs_lists_dict[key] != []}\n",
        "    return pairs_lists_non_null\n",
        "\n",
        "\n",
        "def keys_with_longest_lists(pairs_lists):\n",
        "    \"\"\" \n",
        "    pairs_lists is the sort of dictionary generated by pair_sums.\n",
        "\n",
        "    Find the keys in pairs_lists that have the largest number of pairs that sum to that key. We can call that\n",
        "    number \"max_pairs_length.\" Often there will be more than one key with lists of length max_pairs_length.\n",
        "    Return (a) max_pairs_length and (b) a dictionary of the keys with lists of that leng along with their \n",
        "    associated lists. \n",
        "    \"\"\"\n",
        "\n",
        "    # What does the values() method return?\n",
        "    max_pairs_length = max(len(vals) for vals in pairs_lists.values())\n",
        "    all_longest_lists = {key: pairs_lists[key] for key in pairs_lists if len(pairs_lists[key]) == max_pairs_length}\n",
        "    return (max_pairs_length, all_longest_lists)\n"
      ],
      "execution_count": null,
      "outputs": []
    },
    {
      "cell_type": "markdown",
      "metadata": {
        "id": "vqM5E-KFqqK8"
      },
      "source": [
        "### **Q15. What happens when you run &nbsp; `Runtime > Restart runtime` &nbsp; and then run the preceding code block?**\n",
        "\n",
        "---\n",
        "**Answer:**\n",
        "\n",
        "---\n",
        "\n",
        "* **Correct and complete: (A, B, C).**\n",
        "* **Written in clear, grammatical, and properly spelled English: (A, B, C).**\n",
        "---\n"
      ]
    },
    {
      "cell_type": "markdown",
      "metadata": {
        "id": "LtpgVmpbqHsg"
      },
      "source": [
        "\r\n",
        "\r\n",
        "The following code block uses the functions defined in the previous code block to run the program. "
      ]
    },
    {
      "cell_type": "code",
      "metadata": {
        "colab": {
          "base_uri": "https://localhost:8080/"
        },
        "id": "oib3vWOfpk75",
        "outputId": "e13cff74-2ced-459c-ba76-fd88c9d5a636"
      },
      "source": [
        "from random import sample\r\n",
        "\r\n",
        "\r\n",
        "upper_bound = 26\r\n",
        "sample_size = 8\r\n",
        "\r\n",
        "# Note that + concatentes lists.\r\n",
        "my_numbers_as_a_list = sample(range(1, upper_bound), sample_size) + sample(range(1, upper_bound), sample_size) \r\n",
        "my_numbers_as_a_set = set(my_numbers_as_a_list)\r\n",
        "\r\n",
        "print_lv('my_numbers_as_a_set')\r\n",
        "\r\n",
        "non_null_pair_sums = pair_sums(my_numbers_as_a_set)\r\n",
        "(longest_list_length, keys_and_their_lists) = keys_with_longest_lists(non_null_pair_sums)\r\n",
        "\r\n",
        "nbr_of_lists = len(keys_and_their_lists)\r\n",
        "print(f'The longest pairs list{\"s have\" if nbr_of_lists > 1 else \" has\"} '\r\n",
        "      f'{longest_list_length} elements.')\r\n",
        "\r\n",
        "msg = 'There is 1 such list.' if nbr_of_lists == 1 else f'There are {nbr_of_lists} such lists.'\r\n",
        "print(msg)\r\n",
        "for (key, value) in keys_and_their_lists.items():\r\n",
        "    print(f'{key}: {value}')"
      ],
      "execution_count": null,
      "outputs": [
        {
          "output_type": "stream",
          "text": [
            "my_numbers_as_a_set => {3, 4, 5, 7, 8, 10, 14, 17, 18, 20, 21, 25}\n",
            "\n",
            "The longest pairs lists have 4 elements.\n",
            "There are 3 such lists.\n",
            "24: [(3, 21), (4, 20), (7, 17), (10, 14)]\n",
            "25: [(4, 21), (5, 20), (7, 18), (8, 17)]\n",
            "28: [(3, 25), (7, 21), (8, 20), (10, 18)]\n"
          ],
          "name": "stdout"
        }
      ]
    },
    {
      "cell_type": "markdown",
      "metadata": {
        "id": "Qr0K6CaO1SwT"
      },
      "source": [
        "### **Q16. Explain the code block above.**\n",
        "\n",
        "There is no need to repeat explanations provided earlier.\n",
        "\n",
        "Explain the code block at the following levels.\n",
        "\n",
        "* **What** does the code block overall accomplish?\n",
        "* What is the **conceptual strategy** for accomplishing that goal?\n",
        "* **How** does it accomplish that goal. In particular, what steps does it take? \n",
        "\n",
        "\n",
        "---\n",
        "**Answer:**\n",
        "\n",
        "---\n",
        "\n",
        "* **Correct and complete: (A, B, C).**\n",
        "* **Written in clear, grammatical, and properly spelled English: (A, B, C).**\n",
        "---"
      ]
    },
    {
      "cell_type": "markdown",
      "metadata": {
        "deletable": true,
        "editable": true,
        "id": "OUZCZxgqOSUz"
      },
      "source": [
        "---\n",
        "---\n",
        "# Assignment quality overall evaluation (Group consensus)\n",
        "\n",
        "\n",
        "\n",
        "As you think about the quality of your work on this assignment, consider the quality of each explanation to be the ***smaller*** of its two component scores. (Do you understand why that make sense?)\n",
        "\n",
        "**Quality score for the assignment as a whole: (A, B, or C)**\n",
        "\n",
        "\n",
        "---\n",
        "---"
      ]
    },
    {
      "cell_type": "markdown",
      "metadata": {
        "id": "1LiazU82t2IG"
      },
      "source": [
        "# [**Assignment page (Canvas)**](https://calstatela.instructure.com/courses/58579/assignments/703715?module_item_id=2813855) \r\n",
        "* When you submit this assignment, submit it on this [*Assignment page*](https://calstatela.instructure.com/courses/58579/assignments/703715?module_item_id=2813855). Create a \"share\" link that allows anyone with the link to edit the assignment. (You will already have done this for your group.) Everyone in the group should then submit that link on this assignment page.\r\n",
        "\r\n",
        "---\r\n",
        "\r\n",
        "---\r\n",
        "\r\n",
        "\r\n",
        "\r\n"
      ]
    },
    {
      "cell_type": "markdown",
      "metadata": {
        "deletable": true,
        "editable": true,
        "id": "WT4EOwsa4EKr"
      },
      "source": [
        "\n",
        "\n",
        "\n",
        "# Individual self-evaluations\n",
        "Please identify yourself by _Last name, First name_. (That's how Canvas lists you. Thanks.) \n",
        "\n",
        "Please order your self-evaluations alphabetically by last name.\n",
        "\n",
        "You may include **+** or **-** in your grades.\n",
        "\n",
        "---\n",
        "---\n",
        "\n"
      ]
    },
    {
      "cell_type": "markdown",
      "metadata": {
        "deletable": true,
        "editable": true,
        "id": "aC326wx-39VM"
      },
      "source": [
        "## **a.** Self-evaluation by _< Last name, First name >_.\n",
        "\n",
        "---\n",
        "\n",
        "* I am thoroughly familiar with and can put into my own words _ _ _ _% of the requested explanations. \n",
        "\n",
        "* I would grade my teamwork level: _ _ _ (A, B, C).\n",
        "\n",
        "* I give myself a score of _ _ _ _ (A, B, C) on this assignment because  _ _ _ _. \n",
        "\n",
        "---\n",
        "---"
      ]
    },
    {
      "cell_type": "markdown",
      "metadata": {
        "deletable": true,
        "editable": true,
        "id": "w_QiA40639VU"
      },
      "source": [
        "##  **b.** Self-evaluation by _< Last name, First name >_.\n",
        "\n",
        "---\n",
        "\n",
        "* I am thoroughly familiar with and can put into my own words _ _ _ _% of the requested explanations. \n",
        "\n",
        "* I would grade my teamwork level: _ _ _ _ (A, B, C).\n",
        "\n",
        "* I give myself a score of  _ _ _ _ (A, B, C) on this assignment because  _ _ _ _ . \n",
        "\n",
        "---\n",
        "---"
      ]
    },
    {
      "cell_type": "markdown",
      "metadata": {
        "deletable": true,
        "editable": true,
        "id": "ePhj-2hs39VU"
      },
      "source": [
        "##  **c.** Self-evaluation by _< Last name, First name >_.\n",
        "\n",
        "---\n",
        "\n",
        "* I am thoroughly familiar with and can put into my own words  _ _ _ _% of the requested explanations. \n",
        "\n",
        "* I would grade my teamwork level: _ _ _ _ (A, B, C).\n",
        "\n",
        "* I give myself a score of  _ _ _ _ (A, B, C) on this assignment because  _ _ _ _ . \n",
        "\n",
        "\n",
        "---\n",
        "---"
      ]
    },
    {
      "cell_type": "markdown",
      "metadata": {
        "deletable": true,
        "editable": true,
        "id": "CJ6uIrfZ39VV"
      },
      "source": [
        "##  **d.** Self-evaluation by _< Last name, First name >_.\n",
        "\n",
        "---\n",
        "\n",
        "* I am thoroughly familiar with and can put into my own words  _ _ _ _% of the requested explanations. \n",
        "\n",
        "* I would grade my teamwork level: _ _ _ _ (A, B, C).\n",
        "\n",
        "* I give myself a score of  _ _ _ _ (A, B, C) on this assignment because  _ _ _ _ . \n",
        "\n",
        "\n",
        "---\n",
        "---"
      ]
    }
  ]
}